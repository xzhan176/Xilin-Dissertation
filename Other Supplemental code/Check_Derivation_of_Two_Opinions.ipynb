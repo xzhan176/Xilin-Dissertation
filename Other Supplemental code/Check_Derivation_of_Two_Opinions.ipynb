{
 "cells": [
  {
   "cell_type": "markdown",
   "metadata": {},
   "source": [
    "### Two Min_opinion  - Python Package Style"
   ]
  },
  {
   "cell_type": "code",
   "execution_count": 2,
   "metadata": {},
   "outputs": [],
   "source": [
    "############################################ Min_opinion - Python Package Solve  ################################\n",
    "def py_pack(A, s, n, v1):\n",
    "    # create a parameter array with all 1/n s\n",
    "    c =np.array([1/n] * n)\n",
    "    #c = np.reshape(c, (n,1))\n",
    "    # Reshape innate opinion array\n",
    "    #s = np.reshape(s, (n,1))\n",
    "\n",
    "    i0 = v1[0]\n",
    "    i1 = v1[1]\n",
    "\n",
    "    a1 = np.transpose(A[i0]-c)@(A[i0]-c)\n",
    "    a2 = np.transpose(A[i1]-c)@(A[i0]-c)\n",
    "    a = np.concatenate(([a1],[a2]))\n",
    "#     print('a')\n",
    "#     print(a)\n",
    "    b1 = np.transpose(A[i0]-c)@(A[i1]-c)\n",
    "    b2 = np.transpose(A[i1]-c)@(A[i1]-c)\n",
    "    b =  np.concatenate(([b1],[b2]))\n",
    "#     print('b: '+ str(b))\n",
    "\n",
    "    # # Now try to solve the linear equations - the variable x - min_opinion of agent i0, y - min_opinion of agent i1\n",
    "    # # a1*X + b1*Y + M1 = 0\n",
    "    # # a2*X + b2*Y + M2 = 0\n",
    "\n",
    "    # M = sum_term - term_out    # numerator\n",
    "    E_new =np.array([1/n] * n *n)\n",
    "    E_new = np.reshape(E_new, (n,n))\n",
    "    A_new = np.reshape(A, (n,n))\n",
    "    A_temp=A_new-E_new\n",
    "    M_new_temp=A_temp@s\n",
    "\n",
    "    s_i0 = s[i0]*A_temp[i0]\n",
    "    s_i1 = s[i1]*A_temp[i1]\n",
    "    s_i0 = np.reshape(s_i0, (n,1))\n",
    "    s_i1 = np.reshape(s_i1, (n,1))\n",
    "    M=np.transpose(M_new_temp-s_i0-s_i1)\n",
    "#     print('M')\n",
    "#     print(M)\n",
    "    #######################################\n",
    "\n",
    "    M1 = np.dot(M, (A[i0]-c))  \n",
    "    M2 = np.dot(M, (A[i1]-c))  \n",
    "\n",
    "    Matr_2 = np.concatenate(([-M1, -M2]))\n",
    "#     print('= right')\n",
    "#     print(Matr_2)\n",
    "    \n",
    "    #Matr_1 = np.concatenate(([a,b]))\n",
    "    Matr_1 = np.concatenate([[a],[b]])\n",
    "#     print('left = ')\n",
    "#     print(Matr_1)\n",
    "    \n",
    "    x,y = np.linalg.solve(Matr_1, Matr_2)\n",
    "    print('si,sl - Python Pac two min_opinions')\n",
    "    print(x,y)\n",
    "    return (x,y)\n"
   ]
  },
  {
   "cell_type": "code",
   "execution_count": 48,
   "metadata": {},
   "outputs": [
    {
     "name": "stdout",
     "output_type": "stream",
     "text": [
      "X,Y - Two min_opinions Python Pac\n",
      "[0.507] [0.5131]\n"
     ]
    }
   ],
   "source": [
    "# (x,y) = py_pack(A, s, n, v1)\n"
   ]
  },
  {
   "cell_type": "markdown",
   "metadata": {},
   "source": [
    "### Two opnion - derivation Style"
   ]
  },
  {
   "cell_type": "code",
   "execution_count": 51,
   "metadata": {},
   "outputs": [],
   "source": [
    "################################ Min_opinion - MATHMATIC DERIVATION  - Double confirm ###############################\n",
    "# v1 is the selection list of minimier\n",
    "#  take the node index from selection list\n",
    "#  it's also the column index for these two nodes\n",
    "\n",
    "def deriv_sty(A, s, n, v1):\n",
    "                   #s - opinion array that updated by maximizer\n",
    "    sum_term = 0\n",
    "\n",
    "    i0 = v1[0]\n",
    "    l = v1[1]\n",
    "\n",
    "    # M = sum_term - term_out    # numerator\n",
    "    # #########################################################\n",
    "    # create a parameter array with all 1/n s\n",
    "    c =np.array([1/n] * n)\n",
    "    #c = np.reshape(c, (12,1))\n",
    "    # Reshape innate opinion array\n",
    "    #s = np.reshape(s, (12,1))\n",
    "\n",
    "    E_new =np.array([1/n] * n *n)\n",
    "    E_new = np.reshape(E_new, (n,n))\n",
    "    #A_new = np.reshape(A, (n,n))\n",
    "    A_temp=A-E_new\n",
    "    #A_temp=A_new-E_new\n",
    "    M_new_temp=A_temp@s\n",
    "\n",
    "    s_i0 = s[i0]*A_temp[i0]\n",
    "    s_l = s[l]*A_temp[l]\n",
    "    s_i0 = np.reshape(s_i0, (n,1))\n",
    "    s_l = np.reshape(s_l, (n,1))\n",
    "    M=np.transpose(M_new_temp-s_i0-s_l)\n",
    "#     print('M')\n",
    "#     print(M)\n",
    "    #########################################################\n",
    "\n",
    "    a=A[i0]-c\n",
    "    b=A[l]-c\n",
    "\n",
    "    num_si=np.dot(np.transpose(b),a)*np.dot(M, b)-np.dot(np.transpose(b), b)*np.dot(M, a)\n",
    "    den=np.dot(np.transpose(a), a)*np.dot(np.transpose(b), b)-np.dot(np.transpose(b), a)*np.dot(np.transpose(a), b)\n",
    "    si=num_si/den\n",
    "\n",
    "    num_sl=np.dot(np.transpose(b),a)*np.dot(M, a)-np.dot(np.transpose(a), a)*np.dot(M, b)\n",
    "    sl=num_sl/den\n",
    "\n",
    "    print('si,sl - hand derivation')\n",
    "    print(si,sl)\n",
    "    \n",
    "    return (si,sl)\n",
    "\n",
    "\n",
    "# # # print(s_star_1)\n",
    "# # # # min_sinion =min(max(0,s_star),1)\n",
    "    \n",
    "\n"
   ]
  },
  {
   "cell_type": "code",
   "execution_count": 52,
   "metadata": {},
   "outputs": [
    {
     "name": "stdout",
     "output_type": "stream",
     "text": [
      "si,sl - hand derivation\n",
      "[[0.507]] [[0.5131]]\n"
     ]
    }
   ],
   "source": [
    "# (si,sl) = deriv_sty(A, s, n, v1)"
   ]
  },
  {
   "cell_type": "code",
   "execution_count": null,
   "metadata": {},
   "outputs": [],
   "source": []
  }
 ],
 "metadata": {
  "kernelspec": {
   "display_name": "Python 3 (ipykernel)",
   "language": "python",
   "name": "python3"
  },
  "language_info": {
   "codemirror_mode": {
    "name": "ipython",
    "version": 3
   },
   "file_extension": ".py",
   "mimetype": "text/x-python",
   "name": "python",
   "nbconvert_exporter": "python",
   "pygments_lexer": "ipython3",
   "version": "3.9.12"
  }
 },
 "nbformat": 4,
 "nbformat_minor": 4
}
