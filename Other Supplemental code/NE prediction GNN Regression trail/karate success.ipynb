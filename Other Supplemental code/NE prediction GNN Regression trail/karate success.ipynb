{
 "cells": [
  {
   "cell_type": "code",
   "execution_count": 1,
   "id": "e8456e34",
   "metadata": {},
   "outputs": [
    {
     "name": "stdout",
     "output_type": "stream",
     "text": [
      "[0 0 0 0 0 0 1 0 0 0 0 0 0 0 0 0 0 0 0 0 0 0 0 0 0 0 0 0 0 0 0 0 0 0]\n"
     ]
    },
    {
     "name": "stderr",
     "output_type": "stream",
     "text": [
      "C:\\Users\\xzhan176\\AppData\\Local\\Temp\\ipykernel_4320\\1876070243.py:17: DeprecationWarning: \n",
      "\n",
      "The scipy.sparse array containers will be used instead of matrices\n",
      "in Networkx 3.0. Use `to_scipy_sparse_array` instead.\n",
      "  adj = nx.to_scipy_sparse_matrix(G).tocoo()\n"
     ]
    }
   ],
   "source": [
    "import networkx as nx\n",
    "import numpy as np\n",
    "import torch\n",
    "from sklearn.preprocessing import StandardScaler\n",
    "\n",
    "# load graph from networkx library\n",
    "G = nx.karate_club_graph()\n",
    "# retrieve the labels for each node\n",
    "# labels = np.asarray([G.nodes[i]['club'] != 'Mr. Hi' for i in G.nodes]).astype(np.int64)\n",
    "# print(labels)\n",
    "# create min_chosed label\n",
    "c1 = np.asarray([0]*34)\n",
    "c1[6]=1\n",
    "labels= c1\n",
    "print(labels)\n",
    "# create edge index from \n",
    "adj = nx.to_scipy_sparse_matrix(G).tocoo()\n",
    "row = torch.from_numpy(adj.row.astype(np.int64)).to(torch.long)\n",
    "col = torch.from_numpy(adj.col.astype(np.int64)).to(torch.long)\n",
    "edge_index = torch.stack([row, col], dim=0)\n",
    "\n",
    "# using degree as embedding\n",
    "embeddings = np.array(list(dict(G.degree()).values()))\n",
    "\n",
    "# normalizing degree values\n",
    "scale = StandardScaler()\n",
    "embeddings = scale.fit_transform(embeddings.reshape(-1,1))"
   ]
  },
  {
   "cell_type": "code",
   "execution_count": 2,
   "id": "2a752577",
   "metadata": {},
   "outputs": [
    {
     "name": "stdout",
     "output_type": "stream",
     "text": [
      "Data(edge_index=[2, 156])\n",
      "Data(edge_index=[2, 156], num_nodes=34, x=[34, 1], y=[34], num_classes=2, train_mask=[34], test_mask=[34])\n"
     ]
    }
   ],
   "source": [
    "import torch\n",
    "import pandas as pd\n",
    "from torch_geometric.data import InMemoryDataset, Data\n",
    "from sklearn.model_selection import train_test_split\n",
    "import torch_geometric.transforms as T\n",
    "\n",
    "# custom dataset\n",
    "class KarateDataset(InMemoryDataset):\n",
    "    def __init__(self, transform=None):\n",
    "        super(KarateDataset, self).__init__('.', transform, None, None)\n",
    "\n",
    "        data = Data(edge_index=edge_index)\n",
    "        print(data)\n",
    "        data.num_nodes = G.number_of_nodes()\n",
    "        \n",
    "        # embedding \n",
    "        data.x = torch.from_numpy(embeddings).type(torch.float32)\n",
    "        \n",
    "        # labels\n",
    "        y = torch.from_numpy(labels).type(torch.long)\n",
    "        data.y = y.clone().detach()\n",
    "        \n",
    "        data.num_classes = 2\n",
    "\n",
    "        # splitting the data into train, validation and test\n",
    "        X_train, X_test, y_train, y_test = train_test_split(pd.Series(list(G.nodes())), \n",
    "                                                            pd.Series(labels),\n",
    "                                                            test_size=0.30, \n",
    "                                                            random_state=42)\n",
    "        \n",
    "        n_nodes = G.number_of_nodes()\n",
    "        \n",
    "        # create train and test masks for data\n",
    "        train_mask = torch.zeros(n_nodes, dtype=torch.bool)\n",
    "        test_mask = torch.zeros(n_nodes, dtype=torch.bool)\n",
    "        train_mask[X_train.index] = True\n",
    "        test_mask[X_test.index] = True\n",
    "        data['train_mask'] = train_mask\n",
    "        data['test_mask'] = test_mask\n",
    "\n",
    "        self.data, self.slices = self.collate([data])\n",
    "\n",
    "    def _download(self):\n",
    "        return\n",
    "\n",
    "    def _process(self):\n",
    "        return\n",
    "\n",
    "    def __repr__(self):\n",
    "        return '{}()'.format(self.__class__.__name__)\n",
    "    \n",
    "dataset = KarateDataset()\n",
    "data = dataset[0]\n",
    "print(data)"
   ]
  },
  {
   "cell_type": "code",
   "execution_count": 3,
   "id": "ede856f6",
   "metadata": {},
   "outputs": [],
   "source": [
    "import torch.nn as nn\n",
    "import torch.nn.functional as F\n",
    "from torch_geometric.nn import GCNConv\n",
    "\n",
    "# GCN model with 2 layers \n",
    "class Net(torch.nn.Module):\n",
    "    def __init__(self):\n",
    "        super(Net, self).__init__()\n",
    "        self.conv1 = GCNConv(data.num_features, 16)\n",
    "        self.conv2 = GCNConv(16, int(data.num_classes))\n",
    "\n",
    "    def forward(self):\n",
    "        x, edge_index = data.x, data.edge_index\n",
    "        x = F.relu(self.conv1(x, edge_index))\n",
    "        x = F.dropout(x, training=self.training)\n",
    "        x = self.conv2(x, edge_index)\n",
    "        return F.log_softmax(x, dim=1)\n",
    "\n",
    "device = torch.device('cuda' if torch.cuda.is_available() else 'cpu')\n",
    "\n",
    "data =  data.to(device)\n",
    "\n",
    "model = Net().to(device) "
   ]
  },
  {
   "cell_type": "code",
   "execution_count": 6,
   "id": "3007090f",
   "metadata": {},
   "outputs": [
    {
     "name": "stdout",
     "output_type": "stream",
     "text": [
      "tensor([0, 0, 0, 0, 0, 0, 0, 0, 0, 0, 0])\n",
      "tensor([0, 0, 0, 0, 0, 0, 0, 0, 0, 0, 0, 0, 0, 0, 0, 0, 0, 0, 0, 0, 0, 0, 0])\n",
      "######################################################################\n",
      "Train Accuracy: 0.9565217391304348\n",
      "Test Accuracy: 1.0\n",
      "######################################################################\n"
     ]
    }
   ],
   "source": [
    "torch.manual_seed(42)\n",
    "\n",
    "optimizer_name = \"Adam\"\n",
    "lr = 1e-1\n",
    "optimizer = getattr(torch.optim, optimizer_name)(model.parameters(), lr=lr)\n",
    "epochs = 200\n",
    "\n",
    "def train():\n",
    "  model.train()\n",
    "  optimizer.zero_grad()\n",
    "\n",
    "  F.nll_loss(model()[data.train_mask], data.y[data.train_mask]).backward()\n",
    "  optimizer.step()\n",
    "\n",
    "@torch.no_grad()\n",
    "def test():\n",
    "  model.eval()\n",
    "  logits = model()\n",
    "  mask1 = data['train_mask']\n",
    "  pred1 = logits[mask1].max(1)[1]\n",
    "  acc1 = pred1.eq(data.y[mask1]).sum().item() / mask1.sum().item()\n",
    "  mask = data['test_mask']\n",
    "  pred = logits[mask].max(1)[1]\n",
    "  acc = pred.eq(data.y[mask]).sum().item() / mask.sum().item()\n",
    "  return acc1,acc\n",
    "\n",
    "for epoch in range(1, epochs):\n",
    "  train()\n",
    "\n",
    "train_acc,test_acc = test()\n",
    "\n",
    "\n",
    "print('#' * 70)\n",
    "print('Train Accuracy: %s' %train_acc )\n",
    "print('Test Accuracy: %s' % test_acc)\n",
    "print('#' * 70)"
   ]
  },
  {
   "cell_type": "code",
   "execution_count": null,
   "id": "4aead68e",
   "metadata": {},
   "outputs": [],
   "source": []
  }
 ],
 "metadata": {
  "kernelspec": {
   "display_name": "Python 3 (ipykernel)",
   "language": "python",
   "name": "python3"
  },
  "language_info": {
   "codemirror_mode": {
    "name": "ipython",
    "version": 3
   },
   "file_extension": ".py",
   "mimetype": "text/x-python",
   "name": "python",
   "nbconvert_exporter": "python",
   "pygments_lexer": "ipython3",
   "version": "3.9.12"
  }
 },
 "nbformat": 4,
 "nbformat_minor": 5
}
