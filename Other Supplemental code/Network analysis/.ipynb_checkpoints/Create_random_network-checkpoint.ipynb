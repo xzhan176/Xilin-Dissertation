{
 "cells": [
  {
   "cell_type": "code",
   "execution_count": 3,
   "id": "a471c781",
   "metadata": {},
   "outputs": [],
   "source": [
    "import numpy as np\n",
    "# ############################ Make Innate Opinion ################################\n",
    "def creat_network(n):\n",
    "    # ##create two set of weights connected with density 1) inviduals  2) individual & informaton Source\n",
    "    c1 = np.sort(np.random.choice(n, n, replace=False)) #assume (1-r) are individuals\n",
    "    # print('c1')\n",
    "    # print(c1)\n",
    "    l1 = len(c1)\n",
    "\n",
    "\n",
    "    ##################################Creating Adjacency Matrix ########################\n",
    "    np.set_printoptions(precision=4)\n",
    "    ### Prepare for create adjacent matrix\n",
    "    p1 = 1 # density within ind.\n",
    "    p2 = 0 # density of edges between Info Source and Indivisuals\n",
    "\n",
    "    #pre_weights1 = scipy.sparse.random(1, int(0.5*l1*(l1 - 1)), density=p1).A[0] \n",
    "    # pre_weights1 = scipy.sparse.rand(1, int(0.5*l1*(l1 - 1)), density=p1, format='coo', dtype=None, random_state=None)\n",
    "    pre_weights1  = np.full((n, 1), 1/2, dtype=float)\n",
    "    # pre_weights1[0] = 0\n",
    "    print(pre_weights1)\n",
    "\n",
    "    weights1 = pre_weights1 /25\n",
    "#     print(\"weight1\")\n",
    "#     print(weights1)\n",
    "    weights1.shape\n",
    "\n",
    "\n",
    "    # create n x n adjacency matrix with existing init_G\n",
    "    G = np.zeros((n, n))\n",
    "\n",
    "    ## Assign edges between ind to ind \n",
    "    idx = 0\n",
    "    for i in c1:\n",
    "        for j in c1:\n",
    "                if i == j:\n",
    "                    G[i][j] =0\n",
    "                    continue\n",
    "                elif i < j:\n",
    "                    G[i][j] = weights1[idx]\n",
    "                    idx += 1\n",
    "    #                 print(idx)\n",
    "    #                 print (G1[i][j])\n",
    "                else:\n",
    "                    G[i][j] = G[j][i]\n",
    "    print(\"G for agents completed!\")\n",
    "    print(G)\n",
    "    \n",
    "    return G"
   ]
  },
  {
   "cell_type": "code",
   "execution_count": 4,
   "id": "62ea3cdc",
   "metadata": {},
   "outputs": [
    {
     "name": "stdout",
     "output_type": "stream",
     "text": [
      "[[0.5]\n",
      " [0.5]\n",
      " [0.5]\n",
      " [0.5]\n",
      " [0.5]]\n"
     ]
    },
    {
     "ename": "IndexError",
     "evalue": "index 5 is out of bounds for axis 0 with size 5",
     "output_type": "error",
     "traceback": [
      "\u001b[1;31m---------------------------------------------------------------------------\u001b[0m",
      "\u001b[1;31mIndexError\u001b[0m                                Traceback (most recent call last)",
      "Input \u001b[1;32mIn [4]\u001b[0m, in \u001b[0;36m<cell line: 2>\u001b[1;34m()\u001b[0m\n\u001b[0;32m      1\u001b[0m n \u001b[38;5;241m=\u001b[39m \u001b[38;5;241m5\u001b[39m\n\u001b[1;32m----> 2\u001b[0m G \u001b[38;5;241m=\u001b[39m \u001b[43mcreat_network\u001b[49m\u001b[43m(\u001b[49m\u001b[43mn\u001b[49m\u001b[43m)\u001b[49m\n",
      "Input \u001b[1;32mIn [3]\u001b[0m, in \u001b[0;36mcreat_network\u001b[1;34m(n)\u001b[0m\n\u001b[0;32m     38\u001b[0m                 \u001b[38;5;28;01mcontinue\u001b[39;00m\n\u001b[0;32m     39\u001b[0m             \u001b[38;5;28;01melif\u001b[39;00m i \u001b[38;5;241m<\u001b[39m j:\n\u001b[1;32m---> 40\u001b[0m                 G[i][j] \u001b[38;5;241m=\u001b[39m \u001b[43mweights1\u001b[49m\u001b[43m[\u001b[49m\u001b[43midx\u001b[49m\u001b[43m]\u001b[49m\n\u001b[0;32m     41\u001b[0m                 idx \u001b[38;5;241m+\u001b[39m\u001b[38;5;241m=\u001b[39m \u001b[38;5;241m1\u001b[39m\n\u001b[0;32m     42\u001b[0m \u001b[38;5;66;03m#                 print(idx)\u001b[39;00m\n\u001b[0;32m     43\u001b[0m \u001b[38;5;66;03m#                 print (G1[i][j])\u001b[39;00m\n\u001b[0;32m     44\u001b[0m             \u001b[38;5;28;01melse\u001b[39;00m:\n",
      "\u001b[1;31mIndexError\u001b[0m: index 5 is out of bounds for axis 0 with size 5"
     ]
    }
   ],
   "source": [
    "n = 5\n",
    "G = creat_network(n)"
   ]
  },
  {
   "cell_type": "code",
   "execution_count": null,
   "id": "d1ad972d",
   "metadata": {},
   "outputs": [],
   "source": [
    "def make_innat_opinions(n): #(n1, n2):\n",
    "    \n",
    "    # Make list of ind innate opinion to define info source opinion\n",
    "    innat_s1 = np.random.uniform(low=0.3, high=0.7, size=int(n))   #individual's innate opinion \n",
    "\n",
    "    s1 = np.zeros((n, 1))\n",
    "    \n",
    "    idx1 = 0\n",
    "    for i in range(len(s1)):\n",
    "        s1[i] = innat_s1[idx1]  #set innate opinion for ind.\n",
    "        idx1 += 1\n",
    "        \n",
    "    return s1"
   ]
  }
 ],
 "metadata": {
  "kernelspec": {
   "display_name": "Python 3 (ipykernel)",
   "language": "python",
   "name": "python3"
  },
  "language_info": {
   "codemirror_mode": {
    "name": "ipython",
    "version": 3
   },
   "file_extension": ".py",
   "mimetype": "text/x-python",
   "name": "python",
   "nbconvert_exporter": "python",
   "pygments_lexer": "ipython3",
   "version": "3.9.12"
  }
 },
 "nbformat": 4,
 "nbformat_minor": 5
}
