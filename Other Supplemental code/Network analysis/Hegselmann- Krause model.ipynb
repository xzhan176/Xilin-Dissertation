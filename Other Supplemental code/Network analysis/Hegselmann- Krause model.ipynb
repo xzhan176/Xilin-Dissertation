{
 "cells": [
  {
   "cell_type": "code",
   "execution_count": 1,
   "metadata": {},
   "outputs": [
    {
     "data": {
      "image/png": "[encoded data removed]",
      "text/plain": [
       "<Figure size 432x288 with 1 Axes>"
      ]
     },
     "metadata": {
      "needs_background": "light"
     },
     "output_type": "display_data"
    }
   ],
   "source": [
    "import numpy as np\n",
    "import networkx as nx\n",
    "import matplotlib.pyplot as plt\n",
    "\n",
    "def initialize_opinions(num_agents):\n",
    "    return np.random.uniform(0, 1, num_agents)\n",
    "\n",
    "def update_opinions(opinions, adjacency_matrix, epsilon):\n",
    "    num_agents = len(opinions)\n",
    "    updated_opinions = np.copy(opinions)\n",
    "\n",
    "    for i in range(num_agents):\n",
    "        neighbors = np.nonzero(adjacency_matrix[i])[0]\n",
    "        if len(neighbors) > 0:\n",
    "            average_opinion = np.mean(opinions[neighbors])\n",
    "            updated_opinions[i] = (1 - epsilon) * opinions[i] + epsilon * average_opinion\n",
    "\n",
    "    return updated_opinions\n",
    "\n",
    "def run_simulation(num_agents, num_iterations, epsilon):\n",
    "    # Create a random graph (you can use other graph structures based on your requirements)\n",
    "    G = nx.erdos_renyi_graph(num_agents, 0.2)\n",
    "    adjacency_matrix = nx.adjacency_matrix(G).toarray()\n",
    "\n",
    "    # Initialize opinions randomly\n",
    "    opinions = initialize_opinions(num_agents)\n",
    "\n",
    "    # Run simulation\n",
    "    for iteration in range(num_iterations):\n",
    "        opinions = update_opinions(opinions, adjacency_matrix, epsilon)\n",
    "\n",
    "    return opinions\n",
    "\n",
    "def plot_opinions(opinions):\n",
    "    plt.hist(opinions, bins=20, alpha=0.7, color='blue', edgecolor='black')\n",
    "    plt.xlabel('Opinion')\n",
    "    plt.ylabel('Frequency')\n",
    "    plt.title('Opinion Distribution after Simulation')\n",
    "    plt.show()\n",
    "\n",
    "if __name__ == \"__main__\":\n",
    "    num_agents = 100\n",
    "    num_iterations = 10\n",
    "    epsilon = 0.1\n",
    "\n",
    "    final_opinions = run_simulation(num_agents, num_iterations, epsilon)\n",
    "    plot_opinions(final_opinions)\n"
   ]
  },
  {
   "cell_type": "code",
   "execution_count": null,
   "metadata": {},
   "outputs": [],
   "source": []
  }
 ],
 "metadata": {
  "kernelspec": {
   "display_name": "Python 3",
   "language": "python",
   "name": "python3"
  },
  "language_info": {
   "codemirror_mode": {
    "name": "ipython",
    "version": 3
   },
   "file_extension": ".py",
   "mimetype": "text/x-python",
   "name": "python",
   "nbconvert_exporter": "python",
   "pygments_lexer": "ipython3",
   "version": "3.8.5"
  }
 },
 "nbformat": 4,
 "nbformat_minor": 4
}
