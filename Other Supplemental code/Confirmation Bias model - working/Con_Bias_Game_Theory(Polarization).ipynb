{
 "cells": [
  {
   "cell_type": "code",
   "execution_count": 2,
   "metadata": {},
   "outputs": [],
   "source": [
    "import scipy\n",
    "import numpy as np\n",
    "import matplotlib.pyplot as plt\n",
    "import networkx as nx\n",
    "from itertools import combinations\n",
    "import time\n",
    "import random\n",
    "from scipy.stats import beta\n",
    "import pandas as pd\n",
    "%matplotlib inline"
   ]
  },
  {
   "cell_type": "markdown",
   "metadata": {},
   "source": [
    "## Objective Functions"
   ]
  },
  {
   "cell_type": "code",
   "execution_count": 51,
   "metadata": {},
   "outputs": [],
   "source": [
    "# centers the opinion vector around 0\n",
    "def mean_center(op, n1):\n",
    "    ones = np.ones((n1, 1))\n",
    "    x = abs(op - (np.dot(np.transpose(op),ones)/n1) * ones)\n",
    "    return x\n",
    "\n",
    "# compute number of edges, m\n",
    "def num_edges(La, n):\n",
    "    m = 0\n",
    "    for i in range(n):\n",
    "        for j in range(n):\n",
    "            if i > j and La[i,j] < 0:\n",
    "                m += 1            \n",
    "    return m\n"
   ]
  },
  {
   "cell_type": "code",
   "execution_count": 1,
   "metadata": {},
   "outputs": [
    {
     "name": "stdout",
     "output_type": "stream",
     "text": [
      "20\n"
     ]
    }
   ],
   "source": [
    "# Parameters for the network\n",
    "n = 22   # number of nodes in the network\n",
    "r = 1/11  # percent of info souce in the network\n",
    "n1 = int(n*(1-r))\n",
    "\n"
   ]
  },
  {
   "cell_type": "code",
   "execution_count": 5,
   "metadata": {},
   "outputs": [],
   "source": [
    "np.set_printoptions(precision=3)"
   ]
  },
  {
   "cell_type": "markdown",
   "metadata": {},
   "source": [
    "## Generating Network\n",
    "### 1. Make Innate opinion"
   ]
  },
  {
   "cell_type": "code",
   "execution_count": 6,
   "metadata": {},
   "outputs": [
    {
     "name": "stdout",
     "output_type": "stream",
     "text": [
      "c1\n",
      "[ 0  1  2  3  4  5  6  7  8  9 10 11 12 13 14 15 16 17 18 19]\n"
     ]
    }
   ],
   "source": [
    "##create two set of weights connected with density 1) inviduals  2) individual & informaton Source\n",
    "c1 = np.sort(np.random.choice(n1, n1, replace=False)) #assume (1-r) are individuals\n",
    "print('c1')\n",
    "print(c1)\n",
    "l1 = len(c1)"
   ]
  },
  {
   "cell_type": "code",
   "execution_count": 7,
   "metadata": {},
   "outputs": [],
   "source": [
    "def make_innat_opinions(n, c1): #(n1, n2):\n",
    "    \n",
    "    # Make list of ind innate opinion to define info source opinion\n",
    "    innat_s1 = np.random.uniform(low=0.4, high=0.6, size=int(n*(1-r)))    #individual's innate opinion \n",
    "\n",
    "    s1 = np.zeros((round((1-r)*n), 1))\n",
    "    \n",
    "    idx1 = 0\n",
    "    for i in range(len(s1)):\n",
    "        s1[i] = innat_s1[idx1]  #set innate opinion for ind.\n",
    "        idx1 += 1\n",
    "\n",
    "    print('s1')\n",
    "    print(s1)\n",
    "\n",
    "    # Make info souce opinion\n",
    "#     h = np.random.uniform(low=max(s1), high=1.0, size=1)\n",
    "#     g = np.random.uniform(low=0.0, high=min(s1), size=1)\n",
    "    h = np.eye(1)\n",
    "    g = np.zeros((1,1))\n",
    "\n",
    "    s2 = np.concatenate((g, h),axis=0)\n",
    "#     print('s2')\n",
    "#     print(s2)\n",
    "\n",
    "    # Make opinion list of both info source and agents   \n",
    "    \n",
    "    s = np.zeros((n, 1))\n",
    "    idx1 = 0\n",
    "    idx2 = 0\n",
    "\n",
    "    for i in range(len(s)):\n",
    "        if i in c1:\n",
    "            s[i] = s1[idx1]\n",
    "            idx1 += 1\n",
    "        else:\n",
    "            s[i] = s2[idx2]\n",
    "            idx2 += 1    \n",
    "\n",
    "#     print('s')\n",
    "#     print(s)\n",
    "\n",
    "  \n",
    "    return (s1, h, g, s2, s)"
   ]
  },
  {
   "cell_type": "code",
   "execution_count": 8,
   "metadata": {},
   "outputs": [
    {
     "name": "stdout",
     "output_type": "stream",
     "text": [
      "s1\n",
      "[[0.506]\n",
      " [0.417]\n",
      " [0.574]\n",
      " [0.545]\n",
      " [0.574]\n",
      " [0.462]\n",
      " [0.446]\n",
      " [0.582]\n",
      " [0.455]\n",
      " [0.555]\n",
      " [0.521]\n",
      " [0.474]\n",
      " [0.585]\n",
      " [0.542]\n",
      " [0.445]\n",
      " [0.492]\n",
      " [0.444]\n",
      " [0.467]\n",
      " [0.408]\n",
      " [0.507]]\n"
     ]
    }
   ],
   "source": [
    "(s1, g, h, s2, s) = make_innat_opinions(n, c1)\n",
    "defult = s1\n",
    "op = s1"
   ]
  },
  {
   "cell_type": "code",
   "execution_count": 56,
   "metadata": {},
   "outputs": [
    {
     "name": "stdout",
     "output_type": "stream",
     "text": [
      "innate_polarization\n",
      "0.06191552071011321\n",
      "innate disagreement\n",
      "0.002264533814158081\n"
     ]
    }
   ],
   "source": [
    "#Test innate polarization\n",
    "\n",
    "y = mean_center(s1,n1)\n",
    "# print(y)\n",
    "innat_pol = np.dot(np.transpose(y), y)[0,0] \n",
    "print('innate_polarization')\n",
    "print(innat_pol)\n",
    "\n",
    "(z1,L) = equilibrium(n1,s1, g, h, G1, beta,gamma)    \n",
    "op_mean = mean_center(s1, n1)\n",
    "innat_dis = np.dot(np.dot(np.transpose(op_mean), L), np.transpose(op_mean))[0,0] \n",
    "print('innate disagreement')\n",
    "print(innat_dis)"
   ]
  },
  {
   "cell_type": "markdown",
   "metadata": {},
   "source": [
    "### 2. Make Confirmation Bias Adjacency Matrices"
   ]
  },
  {
   "cell_type": "code",
   "execution_count": 10,
   "metadata": {},
   "outputs": [],
   "source": [
    "np.set_printoptions(precision=4)"
   ]
  },
  {
   "cell_type": "code",
   "execution_count": 11,
   "metadata": {},
   "outputs": [
    {
     "name": "stdout",
     "output_type": "stream",
     "text": [
      "weight1\n",
      "[0.0264 0.0353 0.0132 0.0032 0.     0.0377 0.0385 0.0022 0.     0.\n",
      " 0.     0.     0.0382 0.0373 0.     0.0195 0.034  0.0009 0.     0.\n",
      " 0.     0.0114 0.     0.     0.     0.     0.0397 0.0321 0.0165 0.\n",
      " 0.0285 0.     0.     0.008  0.0174 0.     0.0015 0.0151 0.     0.0171\n",
      " 0.0107 0.     0.0382 0.036  0.0273 0.     0.     0.     0.0068 0.\n",
      " 0.0059 0.024  0.     0.     0.     0.0045 0.     0.     0.     0.\n",
      " 0.0025 0.     0.     0.     0.     0.0326 0.0297 0.     0.0124 0.0274\n",
      " 0.     0.     0.0165 0.0072 0.     0.     0.0284 0.0004 0.     0.\n",
      " 0.0071 0.     0.     0.     0.0188 0.029  0.0358 0.     0.     0.\n",
      " 0.     0.     0.     0.     0.0306 0.0245 0.     0.     0.     0.\n",
      " 0.0376 0.     0.0273 0.0202 0.0107 0.0041 0.015  0.0008 0.0239 0.012\n",
      " 0.0127 0.     0.     0.     0.     0.     0.     0.0104 0.0326 0.\n",
      " 0.     0.0219 0.     0.0132 0.     0.0321 0.0316 0.0081 0.     0.\n",
      " 0.     0.     0.0017 0.0354 0.034  0.006  0.004  0.0236 0.     0.\n",
      " 0.     0.0325 0.     0.     0.     0.0155 0.     0.0208 0.     0.0397\n",
      " 0.     0.     0.     0.0342 0.0292 0.     0.0034 0.032  0.0205 0.0069\n",
      " 0.     0.0395 0.0254 0.0333 0.     0.0022 0.0212 0.     0.0146 0.031\n",
      " 0.0005 0.     0.0047 0.     0.0133 0.0162 0.     0.     0.0265 0.\n",
      " 0.     0.0317 0.     0.007  0.0333 0.     0.     0.0035 0.026  0.    ]\n"
     ]
    },
    {
     "data": {
      "text/plain": [
       "(190,)"
      ]
     },
     "execution_count": 11,
     "metadata": {},
     "output_type": "execute_result"
    }
   ],
   "source": [
    "### Prepare for create adjacent matrix\n",
    "p1 = 0.5 # density within ind.\n",
    "p2 = 0 # density of edges between Info Source and Indivisuals\n",
    "\n",
    "pre_weights1 = scipy.sparse.random(1, int(0.5*l1*(l1 - 1)), density=p1).A[0] \n",
    "weights1 = pre_weights1/25\n",
    "\n",
    "# pre_weights2 = scipy.sparse.random(1, int(l1*l2), density=p2).A[0]  \n",
    "# weights2 = pre_weights2/10\n",
    "\n",
    "\n",
    "print(\"weight1\")\n",
    "print(weights1)\n",
    "weights1.shape\n",
    "# print(\"weight2\")\n",
    "# print(weights2)\n",
    "\n",
    "# b = weights2.round()  #generate a binary array to indicate the connection between ind. and inf. source \n",
    "                          #without consider the innate opinions, just based on the edges between info source and ind.\n"
   ]
  },
  {
   "cell_type": "code",
   "execution_count": 12,
   "metadata": {},
   "outputs": [],
   "source": [
    "np.set_printoptions(precision=3)"
   ]
  },
  {
   "cell_type": "code",
   "execution_count": 13,
   "metadata": {},
   "outputs": [
    {
     "name": "stdout",
     "output_type": "stream",
     "text": [
      "G for agents\n",
      "[[0.    0.026 0.035 0.013 0.003 0.    0.038 0.039 0.002 0.    0.    0.\n",
      "  0.    0.038 0.037 0.    0.019 0.034 0.001 0.   ]\n",
      " [0.026 0.    0.    0.    0.011 0.    0.    0.    0.    0.04  0.032 0.017\n",
      "  0.    0.028 0.    0.    0.008 0.017 0.    0.002]\n",
      " [0.035 0.    0.    0.015 0.    0.017 0.011 0.    0.038 0.036 0.027 0.\n",
      "  0.    0.    0.007 0.    0.006 0.024 0.    0.   ]\n",
      " [0.013 0.    0.015 0.    0.    0.004 0.    0.    0.    0.    0.002 0.\n",
      "  0.    0.    0.    0.033 0.03  0.    0.012 0.027]\n",
      " [0.003 0.011 0.    0.    0.    0.    0.    0.017 0.007 0.    0.    0.028\n",
      "  0.    0.    0.    0.007 0.    0.    0.    0.019]\n",
      " [0.    0.    0.017 0.004 0.    0.    0.029 0.036 0.    0.    0.    0.\n",
      "  0.    0.    0.    0.031 0.024 0.    0.    0.   ]\n",
      " [0.038 0.    0.011 0.    0.    0.029 0.    0.    0.038 0.    0.027 0.02\n",
      "  0.011 0.004 0.015 0.001 0.024 0.012 0.013 0.   ]\n",
      " [0.039 0.    0.    0.    0.017 0.036 0.    0.    0.    0.    0.    0.\n",
      "  0.    0.01  0.033 0.    0.    0.022 0.    0.013]\n",
      " [0.002 0.    0.038 0.    0.007 0.    0.038 0.    0.    0.    0.032 0.032\n",
      "  0.008 0.    0.    0.    0.    0.002 0.035 0.034]\n",
      " [0.    0.04  0.036 0.    0.    0.    0.    0.    0.    0.    0.006 0.004\n",
      "  0.024 0.    0.    0.    0.032 0.    0.    0.   ]\n",
      " [0.    0.032 0.027 0.002 0.    0.    0.027 0.    0.032 0.006 0.    0.016\n",
      "  0.    0.021 0.    0.04  0.    0.    0.    0.034]\n",
      " [0.    0.017 0.    0.    0.028 0.    0.02  0.    0.032 0.004 0.016 0.\n",
      "  0.029 0.    0.003 0.032 0.021 0.007 0.    0.039]\n",
      " [0.    0.    0.    0.    0.    0.    0.011 0.    0.008 0.024 0.    0.029\n",
      "  0.    0.025 0.033 0.    0.002 0.021 0.    0.015]\n",
      " [0.038 0.028 0.    0.    0.    0.    0.004 0.01  0.    0.    0.021 0.\n",
      "  0.025 0.    0.031 0.    0.    0.005 0.    0.013]\n",
      " [0.037 0.    0.007 0.    0.    0.    0.015 0.033 0.    0.    0.    0.003\n",
      "  0.033 0.031 0.    0.016 0.    0.    0.027 0.   ]\n",
      " [0.    0.    0.    0.033 0.007 0.031 0.001 0.    0.    0.    0.04  0.032\n",
      "  0.    0.    0.016 0.    0.    0.032 0.    0.007]\n",
      " [0.019 0.008 0.006 0.03  0.    0.024 0.024 0.    0.    0.032 0.    0.021\n",
      "  0.002 0.    0.    0.    0.    0.033 0.    0.   ]\n",
      " [0.034 0.017 0.024 0.    0.    0.    0.012 0.022 0.002 0.    0.    0.007\n",
      "  0.021 0.005 0.    0.032 0.033 0.    0.004 0.026]\n",
      " [0.001 0.    0.    0.012 0.    0.    0.013 0.    0.035 0.    0.    0.\n",
      "  0.    0.    0.027 0.    0.    0.004 0.    0.   ]\n",
      " [0.    0.002 0.    0.027 0.019 0.    0.    0.013 0.034 0.    0.034 0.039\n",
      "  0.015 0.013 0.    0.007 0.    0.026 0.    0.   ]]\n"
     ]
    }
   ],
   "source": [
    "# create n x n adjacency matrix with existing init_G\n",
    "G1 = np.zeros((n1, n1))\n",
    "    \n",
    "## Assign edges between ind to ind \n",
    "idx = 0\n",
    "for i in c1:\n",
    "    for j in c1:\n",
    "            if i == j:\n",
    "                G1[i][j] =0\n",
    "                continue\n",
    "            elif i < j:\n",
    "                G1[i][j] = weights1[idx]\n",
    "                idx += 1\n",
    "#                 print(idx)\n",
    "#                 print (G1[i][j])\n",
    "            else:\n",
    "                G1[i][j] = G1[j][i]\n",
    "print(\"G for agents\")\n",
    "print(G1)\n"
   ]
  },
  {
   "cell_type": "code",
   "execution_count": 14,
   "metadata": {},
   "outputs": [
    {
     "name": "stdout",
     "output_type": "stream",
     "text": [
      "[0.286 0.182 0.216 0.137 0.093 0.141 0.242 0.169 0.228 0.142 0.238 0.248\n",
      " 0.169 0.177 0.202 0.198 0.2   0.238 0.091 0.23 ]\n",
      "0.2863646179696519\n",
      "[0.286 0.182 0.216 0.137 0.093 0.141 0.242 0.169 0.228 0.142 0.238 0.248\n",
      " 0.169 0.177 0.202 0.198 0.2   0.238 0.091 0.23 ]\n",
      "0.28636461796965196\n",
      "0.713635382030348\n",
      "Beta reference value less than\n",
      "0.356817691015174\n",
      "Gamma reference value less than\n",
      "0.178408845507587\n"
     ]
    }
   ],
   "source": [
    "## calculate Max row sum & column sum of agent' G --> result from beta gamma value\n",
    "\n",
    "rowsum_ij = np.sum(G1,1)\n",
    "max_rowsum_ij = max(rowsum_ij)\n",
    "print(rowsum_ij)\n",
    "print(max_rowsum_ij)\n",
    "colsum_ij = np.sum(G1, axis=0)\n",
    "max_colsum_ij = max(colsum_ij)\n",
    "print(colsum_ij)\n",
    "print(max_colsum_ij)\n",
    "\n",
    "threshold = 1- max(max_rowsum_ij,max_colsum_ij)\n",
    "print(threshold)\n",
    "print(\"Beta reference value less than\")\n",
    "print(threshold/2)\n",
    "print('Gamma reference value less than')\n",
    "print(threshold/4)"
   ]
  },
  {
   "cell_type": "markdown",
   "metadata": {},
   "source": [
    "#### ---> here to update confirmation bias network"
   ]
  },
  {
   "cell_type": "code",
   "execution_count": 15,
   "metadata": {},
   "outputs": [
    {
     "name": "stdout",
     "output_type": "stream",
     "text": [
      "Should be less than 1:\n",
      "0.8863646179696519\n"
     ]
    }
   ],
   "source": [
    "## assumptions: 1) beta > gamma >0    2) 1 - max{rowsum, colsum} >= max{2beta, 4gamma}\n",
    "\n",
    "gamma = 0.09\n",
    "beta = 0.30   # the average weight between agents\n",
    "# check beta gamma are qualify or not\n",
    "pipi = max(2*beta, 4*gamma)\n",
    "# print(pipi)\n",
    "\n",
    "ss = max(max_rowsum_ij, max_colsum_ij)\n",
    "# print(ss)\n",
    "\n",
    "xixi = pipi + ss\n",
    "print(\"Should be less than 1:\")\n",
    "print (xixi)"
   ]
  },
  {
   "cell_type": "code",
   "execution_count": 16,
   "metadata": {},
   "outputs": [],
   "source": [
    "## Test to see if Rowsum and column sum in final G is less than 0 \n",
    "# rowsum = np.sum(G1,1)\n",
    "# max_rowsum = max(rowsum)\n",
    "# print(rowsum)\n",
    "# print(max_rowsum)\n",
    "# colsum = np.sum(G1, axis=0)\n",
    "# max_colsum = max(colsum)\n",
    "# print(colsum)\n",
    "# print(max_colsum)"
   ]
  },
  {
   "cell_type": "code",
   "execution_count": 28,
   "metadata": {},
   "outputs": [],
   "source": [
    "#     ##calculate equlibriua manually (Successful!!!)\n",
    "def equilibrium(n1,opinion,g,h,G1,beta,gamma): \n",
    "    ## Cki are the determinate parameter indicate if info. source influence the agent or not\n",
    "    c1i = [1,1,1,1,1,0,0,0,0,0,1,1,1,1,1,1,1,1,1,1]\n",
    "    c2i = [0,0,0,0,0,1,1,1,1,1,1,1,1,1,1,1,1,1,1,1]\n",
    "    C1 = np.diag(c1i, k=0)\n",
    "    C2 = np.diag(c2i, k=0)\n",
    "    # print(s1)\n",
    "    R1 = C1*opinion\n",
    "    R2 = C2*opinion\n",
    "    I = np.eye(n1)\n",
    "    Ematrix = I - G1 + gamma*(R2 - R1 + h*C1 - g*C2)\n",
    "    Ematrix_inverse = np.linalg.inv(Ematrix)\n",
    "    rowsum = np.sum(G1,1)\n",
    "    rowsumm_atrix = np.zeros((n1, n1))\n",
    "    for i in range(n1):\n",
    "        rowsumm_atrix[i,i] = rowsum[i]\n",
    "    addMatrix = I - rowsumm_atrix - (C1+C2)*beta + (C1*h + C2*g)*gamma\n",
    "    A = np.matmul(Ematrix_inverse,addMatrix)\n",
    "    Vector_A = (c1i*h + c2i*g)*beta + (c2i*g**2-c1i*h**2)*gamma\n",
    "    # print(np.shape(Vector_A))\n",
    "    trans_Vector_A = Vector_A.transpose()\n",
    "    # print(np.shape(trans_Vector_A))\n",
    "    L = np.matmul(Ematrix_inverse, trans_Vector_A)\n",
    "    # print(L)\n",
    "    z1 = np.matmul(A,s1) + L\n",
    "    \n",
    "#     print(\"equilibrium opinion\")\n",
    "#     print(z1)\n",
    "    return (z1,L)"
   ]
  },
  {
   "cell_type": "code",
   "execution_count": 45,
   "metadata": {},
   "outputs": [],
   "source": [
    "# # maximizing polarization only: \\bar{z}^T \\bar{z}   \n",
    "def obj_polarization(G1, s1, s2, n1):\n",
    "    np.set_printoptions(precision=5)\n",
    "    (z1,L) = equilibrium(n1,s1, g, h, G1, beta,gamma)\n",
    "#     z = np.concatenate((z1,s2))\n",
    "    op_mean = mean_center(z1, n1)\n",
    "    return np.dot(np.transpose(op_mean), op_mean)[0,0] \n",
    "\n",
    "# maximizing disagreement only: \\bar{z}^T L \\bar{z}\n",
    "def obj_disagreement(G1, s1, s2, n1):\n",
    "    np.set_printoptions(precision=5)\n",
    "    (z1,L) = equilibrium(n1,s1, g, h, G1, beta,gamma)    \n",
    "    op_mean = mean_center(z1, n1)\n",
    "    ans = np.dot(np.dot(np.transpose(op_mean), L), np.transpose(op_mean))[0,0]  \n",
    "    return ans"
   ]
  },
  {
   "cell_type": "code",
   "execution_count": 63,
   "metadata": {},
   "outputs": [
    {
     "name": "stdout",
     "output_type": "stream",
     "text": [
      "Equilibrium Polarization\n",
      "0.5420610536889723\n",
      "Equilibrium Polarization > Innate Polarization0.06191552071011321\n",
      "Equilibrium Disagreement\n",
      "0.2054098402900832\n",
      "Equilibrium Disagreement > Innate Disagreement0.002264533814158081\n"
     ]
    }
   ],
   "source": [
    "equi_polarization = obj_polarization(G1, s1, s2, n1)\n",
    "print(\"Equilibrium Polarization\")\n",
    "print(equi_polarization)\n",
    "\n",
    "if equi_polarization > innat_pol:\n",
    "    print(\"Equilibrium Polarization > Innate Polarization\"+ str(innat_pol))\n",
    "else:\n",
    "    print(\"Innate Polarization > Equilibrium Polarization\")\n",
    "    \n",
    "equi_disagreement = obj_disagreement(G1, s1, s2, n1)\n",
    "print(\"Equilibrium Disagreement\")\n",
    "print(equi_disagreement)\n",
    "\n",
    "if equi_disagreement > innat_dis:\n",
    "    print(\"Equilibrium Disagreement > Innate Disagreement\" + str(innat_dis))\n",
    "else:\n",
    "    print(\"Innate Disagreement > Equilibrium Disagreement\" + str(innat_dis))\n"
   ]
  },
  {
   "cell_type": "code",
   "execution_count": 48,
   "metadata": {},
   "outputs": [],
   "source": [
    "np.set_printoptions(precision=4)"
   ]
  },
  {
   "cell_type": "code",
   "execution_count": 49,
   "metadata": {},
   "outputs": [
    {
     "name": "stdout",
     "output_type": "stream",
     "text": [
      "check: Equilibrium op should NOT have any negative value\n",
      "[[0.3739]\n",
      " [0.3835]\n",
      " [0.3863]\n",
      " [0.4035]\n",
      " [0.4344]\n",
      " [0.8164]\n",
      " [0.8046]\n",
      " [0.82  ]\n",
      " [0.7997]\n",
      " [0.8286]\n",
      " [0.7209]\n",
      " [0.7078]\n",
      " [0.7314]\n",
      " [0.7698]\n",
      " [0.7231]\n",
      " [0.7045]\n",
      " [0.7474]\n",
      " [0.727 ]\n",
      " [0.7529]\n",
      " [0.7516]]\n",
      "innate_polarization\n",
      "0.062370531101899114\n",
      "equilibrium polarization\n",
      "0.5252735689134631\n",
      "difference\n",
      "-0.462903037811564\n",
      "[[-0.0834]\n",
      " [-0.0478]\n",
      " [-0.1234]\n",
      " [-0.1212]\n",
      " [-0.123 ]\n",
      " [ 0.3766]\n",
      " [ 0.3718]\n",
      " [ 0.4003]\n",
      " [ 0.3857]\n",
      " [ 0.3829]\n",
      " [ 0.3043]\n",
      " [ 0.2645]\n",
      " [ 0.2428]\n",
      " [ 0.1742]\n",
      " [ 0.2362]\n",
      " [ 0.2693]\n",
      " [ 0.205 ]\n",
      " [ 0.1914]\n",
      " [ 0.2107]\n",
      " [ 0.1927]]\n"
     ]
    }
   ],
   "source": [
    "#Test obj_innate_polarization function \n",
    "#No Op Change Equilibriua of Stand\n",
    "z1  = equilibrium(n1, s1, g,h,G1,beta,gamma)\n",
    "print('check: Equilibrium op should NOT have any negative value')\n",
    "print(z1)\n",
    "\n",
    "y = mean_center(s1,n1)\n",
    "# print(y)\n",
    "innat_pol = np.dot(np.transpose(y), y)[0,0] \n",
    "print('innate_polarization')\n",
    "print(innat_pol)\n",
    "# Test equilibrium polarization\n",
    "z_mean = mean_center(z1,n1)\n",
    "equ_pol = np.dot(np.transpose(z_mean), z_mean)[0,0]\n",
    "print('equilibrium polarization')\n",
    "print(equ_pol)\n",
    "\n",
    "di = innat_pol - equ_pol\n",
    "print(\"difference\")\n",
    "print(di)\n",
    "print(z1-s1)"
   ]
  },
  {
   "cell_type": "markdown",
   "metadata": {},
   "source": [
    "#### Perfect Network Generation Above\n",
    "_________________________________________________________________________________________________________________\n"
   ]
  },
  {
   "cell_type": "code",
   "execution_count": 50,
   "metadata": {},
   "outputs": [],
   "source": [
    "# ## Find bigger porlarization than innate porlarization\n",
    "# #gamma = 0.04\n",
    "# #list = (0, 0.005, 0.01, 0.015, 0.02, 0.025, 0.03, 0.035, 0.04)#, 0.045, 0.05, 0.055, 0.06)\n",
    "# list = (0, 0.05, 0.1, 0.149)\n",
    "# beta = 0.29  # the average weight between agents"
   ]
  },
  {
   "cell_type": "code",
   "execution_count": 51,
   "metadata": {},
   "outputs": [],
   "source": [
    "# # create n x n adjacency matrix with existing init_G\n",
    "# G1 = np.zeros((n1, n1))\n",
    "    \n",
    "# ## Assign edges between ind to ind \n",
    "\n",
    "# ## Assign weights between info and ind\n",
    "\n",
    "# t = 0\n",
    "\n",
    "# for gamma in list:\n",
    "#     print(gamma)\n",
    "#     t = t +1\n",
    "# #     print(t)   \n",
    "#     idx = 0\n",
    "#     for i in c1:\n",
    "#         for j in c1:\n",
    "#                 if i == j:\n",
    "#                     G1[i][j] =0\n",
    "#                     continue\n",
    "#                 elif i < j:\n",
    "#                     G1[i][j] = weights1[idx]\n",
    "#                     idx += 1\n",
    "#     #                 print(idx)\n",
    "#     #                 print (G1[i][j])\n",
    "#                 else:\n",
    "#                     G1[i][j] = G1[j][i]\n",
    "                \n",
    "#     z  = equilibrium(n1, s1, g,h,G1,beta,gamma)\n",
    "# #     print(z)\n",
    "#     # Test equilibrium polarization\n",
    "#     z_mean = mean_center(z,n)\n",
    "#     equ_pol = np.dot(np.transpose(z_mean), z_mean)[0,0]\n",
    "#     print('equilibrium polarization')\n",
    "#     print(equ_pol)\n",
    "    \n",
    "\n"
   ]
  },
  {
   "cell_type": "markdown",
   "metadata": {},
   "source": [
    "### 3. Network Visualization"
   ]
  },
  {
   "cell_type": "code",
   "execution_count": 52,
   "metadata": {},
   "outputs": [
    {
     "data": {
      "image/png": "[encoded data removed]",
      "text/plain": [
       "<Figure size 432x288 with 1 Axes>"
      ]
     },
     "metadata": {},
     "output_type": "display_data"
    },
    {
     "data": {
      "text/plain": [
       "<Figure size 1800x1800 with 0 Axes>"
      ]
     },
     "metadata": {},
     "output_type": "display_data"
    }
   ],
   "source": [
    "La = scipy.sparse.csgraph.laplacian(G1, normed=False)\n",
    "\n",
    "nxG = nx.from_numpy_matrix(G1)\n",
    "\n",
    "color_map = []\n",
    "for node in nxG:\n",
    "    if node in c1:\n",
    "        color_map.append('Blue')\n",
    "    else: \n",
    "        color_map.append('Red')  \n",
    "\n",
    "#nxG1 = nx.DiGraph(G)\n",
    "nx.draw(nxG, node_color=color_map, with_labels=False)\n",
    "plt.figure(figsize=(25, 25))\n",
    "plt.show()"
   ]
  },
  {
   "cell_type": "markdown",
   "metadata": {},
   "source": [
    "### Calculate Polarization based on Compatitive Paper\n",
    "$$P(z) = z ^T * z $$\n"
   ]
  },
  {
   "cell_type": "markdown",
   "metadata": {},
   "source": [
    "Innate greedy algorithm (polarization):\n",
    "\n",
    "For each $i$ from $1$ to $k$, we choose $v_i$ such that:\n",
    "\n",
    "$$v_i = argmax_{v \\in V - \\hat{s}} \\max \\left(\\bar{s}_1^T \\bar{s}_1, \\bar{s}_0^T \\bar{s}_0 \\right) $$"
   ]
  },
  {
   "cell_type": "code",
   "execution_count": 53,
   "metadata": {},
   "outputs": [
    {
     "name": "stdout",
     "output_type": "stream",
     "text": [
      "[[0.4573]\n",
      " [0.4314]\n",
      " [0.5098]\n",
      " [0.5247]\n",
      " [0.5573]\n",
      " [0.4398]\n",
      " [0.4328]\n",
      " [0.4196]\n",
      " [0.414 ]\n",
      " [0.4458]\n",
      " [0.4166]\n",
      " [0.4433]\n",
      " [0.4886]\n",
      " [0.5955]\n",
      " [0.4868]\n",
      " [0.4352]\n",
      " [0.5424]\n",
      " [0.5356]\n",
      " [0.5421]\n",
      " [0.5589]]\n"
     ]
    }
   ],
   "source": [
    "print(op)"
   ]
  },
  {
   "cell_type": "markdown",
   "metadata": {},
   "source": [
    "## Maximize - change opinion to 1 or 0"
   ]
  },
  {
   "cell_type": "markdown",
   "metadata": {},
   "source": [
    "###     Maximize Equilibrium"
   ]
  },
  {
   "cell_type": "code",
   "execution_count": 54,
   "metadata": {},
   "outputs": [],
   "source": [
    "# Calculate innate polarization\n",
    "def obj_innate_polarization(op, n):  \n",
    "    np.set_printoptions(precision=5)\n",
    "    op_mean = mean_center(op, n)\n",
    "    return np.dot(np.transpose(op_mean), op_mean)[0,0]\n",
    "\n"
   ]
  },
  {
   "cell_type": "code",
   "execution_count": 56,
   "metadata": {},
   "outputs": [
    {
     "name": "stdout",
     "output_type": "stream",
     "text": [
      "innate_polarization\n",
      "0.062370531101899114\n",
      "equilibrium polarization\n",
      "0.5252735689134631\n"
     ]
    }
   ],
   "source": [
    "innate_porlarization = obj_innate_polarization(op, n1)\n",
    "print('innate_polarization')\n",
    "print(innate_porlarization)\n",
    "innat_equi_por = obj_polarization(G1, s1, s2, n1)\n",
    "print('equilibrium polarization')\n",
    "print(innat_equi_por)"
   ]
  },
  {
   "cell_type": "code",
   "execution_count": 62,
   "metadata": {},
   "outputs": [],
   "source": [
    "# determines if value of opinion at v should be set to 0 or 1 to maximize equilibrium polarization \n",
    "def maximize_equi_polarization(op, n1, v):\n",
    "\n",
    "    innat_equi_por = obj_polarization(G1, op, s2, n1)\n",
    "    temp = op[v, 0]\n",
    "    por_arr = np.zeros(11)\n",
    "#     print(por_arr)\n",
    "    \n",
    "    max_opi_option = [0, 0.1, 0.2, 0.3, 0.4, 0.5, 0.6, 0.7, 0.8, 0.9, 1.0]\n",
    "    \n",
    "    # objective if set opinion to 0, 0.1, ..., 1.0\n",
    "    i = 0\n",
    "    for new_op in max_opi_option:\n",
    "        op[v, 0] = new_op\n",
    "        por_arr[i] = obj_polarization(G1, op, s2, n1)\n",
    "        i = i + 1\n",
    "        op[v, 0] = temp\n",
    "    \n",
    "#     z = equilibrium(n1,s1,g,h,G1,beta,gamma)\n",
    "    \n",
    "    \n",
    "    maxmize_op = np.argmax(por_arr)/10\n",
    "    max_por = np.max(por_arr)\n",
    "        \n",
    "#     print(maxmize_op, innat_equi_por, max_por)\n",
    "\n",
    "    return (maxmize_op, innat_equi_por, max_por)"
   ]
  },
  {
   "cell_type": "code",
   "execution_count": 63,
   "metadata": {},
   "outputs": [],
   "source": [
    "(new_op, innat_equi_por, max_por) =  maximize_equi_polarization(op, n1, v)"
   ]
  },
  {
   "cell_type": "code",
   "execution_count": 64,
   "metadata": {},
   "outputs": [],
   "source": [
    "def choose_max_vertex(op, n1):\n",
    "    # iterate over all the vertices that have not yet been changed\n",
    "    vertices = np.where((op != 0.0) & (op != 1.0))\n",
    "    # current best vertex, its opinion {0, 1}, \"innate\" objective, and objective\n",
    "    \n",
    "    innat_equi_por = obj_polarization(G1, op, s2, n1)\n",
    "    \n",
    "    champion = (None, None, 0, innat_equi_por)\n",
    "\n",
    "#     obj_type == POLARIZATION:\n",
    "    for v in vertices[0]:\n",
    "        (changed_opinion, innate_obj, obj) = maximize_equi_polarization(op, n1, v)\n",
    "        \n",
    "        if obj > champion[3]:\n",
    "            champion = (v, changed_opinion, innate_obj, obj)\n",
    "\n",
    "    return (champion)\n"
   ]
  },
  {
   "cell_type": "markdown",
   "metadata": {},
   "source": [
    "## Minimize - change opinion to 0.5"
   ]
  },
  {
   "cell_type": "code",
   "execution_count": 66,
   "metadata": {},
   "outputs": [
    {
     "name": "stdout",
     "output_type": "stream",
     "text": [
      "[[0.45731]\n",
      " [0.43136]\n",
      " [0.50976]\n",
      " [0.5247 ]\n",
      " [0.55733]\n",
      " [0.43984]\n",
      " [0.43278]\n",
      " [0.41964]\n",
      " [0.41396]\n",
      " [0.44575]\n",
      " [0.41655]\n",
      " [0.44332]\n",
      " [0.4886 ]\n",
      " [0.59551]\n",
      " [0.48684]\n",
      " [0.43522]\n",
      " [0.54243]\n",
      " [0.5356 ]\n",
      " [0.54214]\n",
      " [0.55886]]\n",
      "[[0.45731]\n",
      " [0.43136]\n",
      " [0.50976]\n",
      " [0.5247 ]\n",
      " [0.55733]\n",
      " [0.43984]\n",
      " [0.43278]\n",
      " [0.41964]\n",
      " [0.41396]\n",
      " [0.44575]\n",
      " [0.41655]\n",
      " [0.44332]\n",
      " [0.4886 ]\n",
      " [0.59551]\n",
      " [0.48684]\n",
      " [0.43522]\n",
      " [0.54243]\n",
      " [0.5356 ]\n",
      " [0.54214]\n",
      " [0.55886]]\n"
     ]
    }
   ],
   "source": [
    "print(s1)\n",
    "print(op)"
   ]
  },
  {
   "cell_type": "code",
   "execution_count": 72,
   "metadata": {},
   "outputs": [],
   "source": [
    "# determines if a given vertex should be set to zero or one, all else equal\n",
    "def minimize_opinion(op, s2, n1, v):\n",
    "\n",
    "    # save original value of innate opinion\n",
    "    temp = op[v,0]\n",
    "    # minimizer's options\n",
    "    min_opi_option = [0, 0.1, 0.2, 0.3, 0.4, 0.5, 0.6, 0.7, 0.8, 0.9, 1.0]\n",
    "    obj = np.zeros(11)\n",
    "\n",
    "    # objective if set opinion to 0, 0.1, ..., 1.0\n",
    "    i = 0\n",
    "    for new_op in min_opi_option:\n",
    "        op[v, 0] = new_op\n",
    "        obj[i] = obj_polarization(G1, op, s2, n1)\n",
    "        \n",
    "        i = i + 1\n",
    "        # restore original opinion\n",
    "        op[v, 0] = temp\n",
    "        \n",
    "\n",
    "    minimize_op = np.argmin(obj)/10\n",
    "    min_obj = np.min(obj)\n",
    "    \n",
    "#     print(minimize_op, innat_equi_por, min_obj)\n",
    "    \n",
    "    # pick the opinion value that yields bigger objective function value\n",
    "    return (minimize_op, innat_equi_por, np.min(obj))"
   ]
  },
  {
   "cell_type": "code",
   "execution_count": 75,
   "metadata": {},
   "outputs": [],
   "source": [
    "def choose_min_vertex(op, n1):\n",
    "    # iterate over all the vertices that have not yet been changed\n",
    "    vertices = np.where((op != 0.0) & (op != 1.0) & (op != 0.5))\n",
    "    # current best vertex, its opinion {0, 1}, \"innate\" objective, and  current best objective\n",
    "\n",
    "    innat_equi_por = obj_polarization(G1, op, s2, n1)\n",
    "    \n",
    "    champion = (None, None, 0, innat_equi_por)\n",
    "\n",
    "    for v in vertices[0]:\n",
    "        (minimize_op, innate_obj, obj) = minimize_opinion(op, s2, n1, v)\n",
    "        \n",
    "        if obj < champion[3]:\n",
    "            champion = (v, minimize_op, innate_obj, obj)\n",
    "\n",
    "    return (champion)"
   ]
  },
  {
   "cell_type": "code",
   "execution_count": 65,
   "metadata": {},
   "outputs": [
    {
     "name": "stdout",
     "output_type": "stream",
     "text": [
      "v changed_opinion innate_obj obj\n",
      "(3, 0.0, 0.5252735689134631, 0.7873401222618035)\n",
      "innate_op of the selected vertex\n",
      "0.5246958840558633\n"
     ]
    }
   ],
   "source": [
    "#print('champion_max_equilibrium_por')\n",
    "max_champion = choose_max_vertex(op, n1)\n",
    "print('v', 'changed_opinion', 'innate_obj', 'obj')\n",
    "print(max_champion)\n",
    "\n",
    "(v, changed_opinion, innate_obj, obj) = max_champion\n",
    "print('innate_op of the selected vertex')\n",
    "print(op[v, 0])\n",
    "\n"
   ]
  },
  {
   "cell_type": "code",
   "execution_count": 76,
   "metadata": {},
   "outputs": [
    {
     "name": "stdout",
     "output_type": "stream",
     "text": [
      "v changed_opinion innate_obj min_pol\n",
      "(0, 1.0, 0.5252735689134631, 0.42591348475386687)\n",
      "innate_op of the selected vertex\n",
      "0.457306006212411\n"
     ]
    }
   ],
   "source": [
    "min_champion =  choose_min_vertex(op, n1)\n",
    "print('v', 'changed_opinion', 'innate_obj', 'min_pol')\n",
    "(v, changed_opinion, innate_obj, obj) = min_champion\n",
    "print (min_champion)\n",
    "print('innate_op of the selected vertex')\n",
    "print(s[v, 0])"
   ]
  },
  {
   "cell_type": "code",
   "execution_count": 77,
   "metadata": {},
   "outputs": [
    {
     "name": "stdout",
     "output_type": "stream",
     "text": [
      "min innate opinion\n",
      "0.5573256623921952\n",
      "max innate opinion\n",
      "0.4313575743275893\n"
     ]
    }
   ],
   "source": [
    "print(\"min innate opinion\")\n",
    "print(s[4,0])\n",
    "\n",
    "print(\"max innate opinion\")\n",
    "print(s[1,0])"
   ]
  },
  {
   "cell_type": "markdown",
   "metadata": {},
   "source": [
    "# Equilibrium"
   ]
  },
  {
   "cell_type": "code",
   "execution_count": 78,
   "metadata": {},
   "outputs": [
    {
     "name": "stdout",
     "output_type": "stream",
     "text": [
      "[[0.45731]\n",
      " [0.43136]\n",
      " [0.50976]\n",
      " [0.5247 ]\n",
      " [0.55733]\n",
      " [0.43984]\n",
      " [0.43278]\n",
      " [0.41964]\n",
      " [0.41396]\n",
      " [0.44575]\n",
      " [0.41655]\n",
      " [0.44332]\n",
      " [0.4886 ]\n",
      " [0.59551]\n",
      " [0.48684]\n",
      " [0.43522]\n",
      " [0.54243]\n",
      " [0.5356 ]\n",
      " [0.54214]\n",
      " [0.55886]]\n"
     ]
    }
   ],
   "source": [
    "print(s1)"
   ]
  },
  {
   "cell_type": "code",
   "execution_count": 85,
   "metadata": {},
   "outputs": [],
   "source": [
    "def minimizer_play(max_input, n1):\n",
    "\n",
    "#     print(\"__________\")\n",
    "#     print('1st round minimizer')\n",
    "    # pass the maxmixer's equilibirum opinion to minimizer\n",
    "    min_champion =  choose_min_vertex(max_input, n1)\n",
    "    (v, changed_opinion, innate_obj, obj) = min_champion\n",
    "#     print('v', 'changed_opinion', 'innate_obj', 'min_pol')\n",
    "#     print (min_champion)  #Minimizer tell which opinion to change\n",
    "\n",
    "    max_input[v,0] = min_champion[1] # update the opinion with minimizer's choice\n",
    "#     print(max_input)\n",
    "\n",
    "    # Get new equilibrium after minimizer's operation\n",
    "    por = obj_polarization(G1, max_input, s2, n1) # Polarization\n",
    "    \n",
    "    equi_opi_min = equilibrium(n1,max_input,g,h,G1,beta,gamma) \n",
    "    min_input  = equi_opi_min     #pass minimizer's equilibrium to next player\n",
    "#     print(equi_opi_min)\n",
    "\n",
    "    return (min_input, por)\n",
    "\n",
    "def maximizer_play(min_input,n1):\n",
    "\n",
    "    #Take the equilibrium opinion after minimizer's operation\n",
    "\n",
    "    # Maxmizer start looking for agent to change opinion\n",
    "    max_champion = choose_max_vertex(min_input, n1) \n",
    "    (v, changed_opinion, innate_obj, obj) = max_champion\n",
    "#     print('v', 'changed_opinion', 'innate_obj', 'max_pol')\n",
    "#     print(max_champion)\n",
    "\n",
    "    # update the opinion with maximizer's choice\n",
    "    min_input[v,0] = max_champion[1]\n",
    "#     print(min_input)\n",
    "\n",
    "    # get new equi. after maxmizer's operation\n",
    "    por = obj_polarization(G1, min_input, s2, n1) # polarization\n",
    "    \n",
    "    equi_opi_max = equilibrium(n1,min_input,g,h,G1,beta,gamma) \n",
    "    max_input = equi_opi_max    #pass maxmizer's equilibrium to next player\n",
    "    \n",
    "#     print(equi_opi_max)\n",
    "    return (max_input, por)"
   ]
  },
  {
   "cell_type": "code",
   "execution_count": 86,
   "metadata": {},
   "outputs": [
    {
     "name": "stdout",
     "output_type": "stream",
     "text": [
      "(3, 0.0, 0.5252735689134631, 0.7873401222618035)\n",
      "[[0.     ]\n",
      " [0.43136]\n",
      " [0.50976]\n",
      " [0.5247 ]\n",
      " [0.55733]\n",
      " [0.43984]\n",
      " [0.43278]\n",
      " [0.41964]\n",
      " [0.41396]\n",
      " [0.44575]\n",
      " [0.41655]\n",
      " [0.44332]\n",
      " [0.4886 ]\n",
      " [0.59551]\n",
      " [0.48684]\n",
      " [0.43522]\n",
      " [0.54243]\n",
      " [0.5356 ]\n",
      " [0.54214]\n",
      " [0.55886]]\n",
      "[[0.14048]\n",
      " [0.37351]\n",
      " [0.37807]\n",
      " [0.40301]\n",
      " [0.4328 ]\n",
      " [0.81592]\n",
      " [0.80402]\n",
      " [0.81936]\n",
      " [0.79879]\n",
      " [0.82368]\n",
      " [0.71981]\n",
      " [0.70707]\n",
      " [0.73048]\n",
      " [0.76904]\n",
      " [0.7168 ]\n",
      " [0.69585]\n",
      " [0.74438]\n",
      " [0.71618]\n",
      " [0.7439 ]\n",
      " [0.75022]]\n"
     ]
    }
   ],
   "source": [
    "# Game start from maximizer\n",
    "op[v,0] = max_champion[1]\n",
    "print(max_champion)  #Maximizer tell which opinion to change\n",
    "print(op)            #The opinion after Maximizer's operation\n",
    "#     [v,0] = max_champion[1]\n",
    "equi_opi_max = equilibrium(n1,op,g,h,G1,beta,gamma) #Take the equilibrium opinion after maxmizer's operation\n",
    "max_input = equi_opi_max \n",
    "print(max_input)"
   ]
  },
  {
   "cell_type": "markdown",
   "metadata": {},
   "source": [
    "# Game Start!"
   ]
  },
  {
   "cell_type": "code",
   "execution_count": 87,
   "metadata": {},
   "outputs": [
    {
     "name": "stdout",
     "output_type": "stream",
     "text": [
      "Game 1\n",
      "Not Reached Nash Equilibrium at Equi_Min = 0.6694764944537112 and Equi_Max = 0.706859545808448\n",
      "Game 2\n",
      "Not Reached Nash Equilibrium at Equi_Min = 0.6694887931123928 and Equi_Max = 0.7067127315466788\n",
      "Game 3\n",
      "Not Reached Nash Equilibrium at Equi_Min = 0.6694888591334611 and Equi_Max = 0.7067118795600689\n",
      "Game 4\n",
      "Not Reached Nash Equilibrium at Equi_Min = 0.6694888594947453 and Equi_Max = 0.7067118748036143\n",
      "Game 5\n",
      "Not Reached Nash Equilibrium at Equi_Min = 0.6694888594967345 and Equi_Max = 0.7067118747772921\n",
      "Game 6\n",
      "Not Reached Nash Equilibrium at Equi_Min = 0.6694888594967457 and Equi_Max = 0.7067118747771469\n",
      "Game 7\n",
      "Not Reached Nash Equilibrium at Equi_Min = 0.6694888594967459 and Equi_Max = 0.706711874777146\n",
      "Game 8\n",
      "Not Reached Nash Equilibrium at Equi_Min = 0.6694888594967459 and Equi_Max = 0.706711874777146\n",
      "Game 9\n",
      "Not Reached Nash Equilibrium at Equi_Min = 0.6694888594967459 and Equi_Max = 0.706711874777146\n",
      "Game 10\n",
      "Not Reached Nash Equilibrium at Equi_Min = 0.6694888594967459 and Equi_Max = 0.706711874777146\n",
      "Game 11\n",
      "Not Reached Nash Equilibrium at Equi_Min = 0.6694888594967459 and Equi_Max = 0.706711874777146\n",
      "Game 12\n",
      "Not Reached Nash Equilibrium at Equi_Min = 0.6694888594967459 and Equi_Max = 0.706711874777146\n",
      "Game 13\n",
      "Not Reached Nash Equilibrium at Equi_Min = 0.6694888594967459 and Equi_Max = 0.706711874777146\n",
      "Game 14\n",
      "Not Reached Nash Equilibrium at Equi_Min = 0.6694888594967459 and Equi_Max = 0.706711874777146\n",
      "Game 15\n",
      "Not Reached Nash Equilibrium at Equi_Min = 0.6694888594967459 and Equi_Max = 0.706711874777146\n",
      "Game 16\n",
      "Not Reached Nash Equilibrium at Equi_Min = 0.6694888594967459 and Equi_Max = 0.706711874777146\n",
      "Game 17\n",
      "Not Reached Nash Equilibrium at Equi_Min = 0.6694888594967459 and Equi_Max = 0.706711874777146\n",
      "Game 18\n",
      "Not Reached Nash Equilibrium at Equi_Min = 0.6694888594967459 and Equi_Max = 0.706711874777146\n",
      "Game 19\n",
      "Not Reached Nash Equilibrium at Equi_Min = 0.6694888594967459 and Equi_Max = 0.706711874777146\n",
      "Game 20\n",
      "Not Reached Nash Equilibrium at Equi_Min = 0.6694888594967459 and Equi_Max = 0.706711874777146\n",
      "Game 21\n",
      "Not Reached Nash Equilibrium at Equi_Min = 0.6694888594967459 and Equi_Max = 0.706711874777146\n",
      "Game 22\n",
      "Not Reached Nash Equilibrium at Equi_Min = 0.6694888594967459 and Equi_Max = 0.706711874777146\n",
      "Game 23\n",
      "Not Reached Nash Equilibrium at Equi_Min = 0.6694888594967459 and Equi_Max = 0.706711874777146\n",
      "Game 24\n",
      "Not Reached Nash Equilibrium at Equi_Min = 0.6694888594967459 and Equi_Max = 0.706711874777146\n",
      "Game 25\n",
      "Not Reached Nash Equilibrium at Equi_Min = 0.6694888594967459 and Equi_Max = 0.706711874777146\n",
      "Game 26\n",
      "Not Reached Nash Equilibrium at Equi_Min = 0.6694888594967459 and Equi_Max = 0.706711874777146\n",
      "Game 27\n",
      "Not Reached Nash Equilibrium at Equi_Min = 0.6694888594967459 and Equi_Max = 0.706711874777146\n",
      "Game 28\n",
      "Not Reached Nash Equilibrium at Equi_Min = 0.6694888594967459 and Equi_Max = 0.706711874777146\n",
      "Game 29\n",
      "Not Reached Nash Equilibrium at Equi_Min = 0.6694888594967459 and Equi_Max = 0.706711874777146\n",
      "Game 30\n",
      "Not Reached Nash Equilibrium at Equi_Min = 0.6694888594967459 and Equi_Max = 0.706711874777146\n",
      "Game 31\n",
      "Not Reached Nash Equilibrium at Equi_Min = 0.6694888594967459 and Equi_Max = 0.706711874777146\n",
      "Game 32\n",
      "Not Reached Nash Equilibrium at Equi_Min = 0.6694888594967459 and Equi_Max = 0.706711874777146\n",
      "Game 33\n",
      "Not Reached Nash Equilibrium at Equi_Min = 0.6694888594967459 and Equi_Max = 0.706711874777146\n",
      "Game 34\n",
      "Not Reached Nash Equilibrium at Equi_Min = 0.6694888594967459 and Equi_Max = 0.706711874777146\n",
      "Game 35\n",
      "Not Reached Nash Equilibrium at Equi_Min = 0.6694888594967459 and Equi_Max = 0.706711874777146\n",
      "Game 36\n",
      "Not Reached Nash Equilibrium at Equi_Min = 0.6694888594967459 and Equi_Max = 0.706711874777146\n",
      "Game 37\n",
      "Not Reached Nash Equilibrium at Equi_Min = 0.6694888594967459 and Equi_Max = 0.706711874777146\n",
      "Game 38\n",
      "Not Reached Nash Equilibrium at Equi_Min = 0.6694888594967459 and Equi_Max = 0.706711874777146\n",
      "Game 39\n",
      "Not Reached Nash Equilibrium at Equi_Min = 0.6694888594967459 and Equi_Max = 0.706711874777146\n",
      "Game 40\n",
      "Not Reached Nash Equilibrium at Equi_Min = 0.6694888594967459 and Equi_Max = 0.706711874777146\n",
      "Game 41\n",
      "Not Reached Nash Equilibrium at Equi_Min = 0.6694888594967459 and Equi_Max = 0.706711874777146\n",
      "Game 42\n",
      "Not Reached Nash Equilibrium at Equi_Min = 0.6694888594967459 and Equi_Max = 0.706711874777146\n",
      "Game 43\n",
      "Not Reached Nash Equilibrium at Equi_Min = 0.6694888594967459 and Equi_Max = 0.706711874777146\n",
      "Game 44\n",
      "Not Reached Nash Equilibrium at Equi_Min = 0.6694888594967459 and Equi_Max = 0.706711874777146\n",
      "Game 45\n",
      "Not Reached Nash Equilibrium at Equi_Min = 0.6694888594967459 and Equi_Max = 0.706711874777146\n",
      "Game 46\n",
      "Not Reached Nash Equilibrium at Equi_Min = 0.6694888594967459 and Equi_Max = 0.706711874777146\n",
      "Game 47\n",
      "Not Reached Nash Equilibrium at Equi_Min = 0.6694888594967459 and Equi_Max = 0.706711874777146\n",
      "Game 48\n",
      "Not Reached Nash Equilibrium at Equi_Min = 0.6694888594967459 and Equi_Max = 0.706711874777146\n",
      "Game 49\n",
      "Not Reached Nash Equilibrium at Equi_Min = 0.6694888594967459 and Equi_Max = 0.706711874777146\n",
      "Game 50\n",
      "Not Reached Nash Equilibrium at Equi_Min = 0.6694888594967459 and Equi_Max = 0.706711874777146\n",
      "Game 51\n",
      "Not Reached Nash Equilibrium at Equi_Min = 0.6694888594967459 and Equi_Max = 0.706711874777146\n",
      "Game 52\n",
      "Not Reached Nash Equilibrium at Equi_Min = 0.6694888594967459 and Equi_Max = 0.706711874777146\n",
      "Game 53\n",
      "Not Reached Nash Equilibrium at Equi_Min = 0.6694888594967459 and Equi_Max = 0.706711874777146\n",
      "Game 54\n",
      "Not Reached Nash Equilibrium at Equi_Min = 0.6694888594967459 and Equi_Max = 0.706711874777146\n",
      "Game 55\n",
      "Not Reached Nash Equilibrium at Equi_Min = 0.6694888594967459 and Equi_Max = 0.706711874777146\n",
      "Game 56\n",
      "Not Reached Nash Equilibrium at Equi_Min = 0.6694888594967459 and Equi_Max = 0.706711874777146\n",
      "Game 57\n",
      "Not Reached Nash Equilibrium at Equi_Min = 0.6694888594967459 and Equi_Max = 0.706711874777146\n",
      "Game 58\n",
      "Not Reached Nash Equilibrium at Equi_Min = 0.6694888594967459 and Equi_Max = 0.706711874777146\n",
      "Game 59\n",
      "Not Reached Nash Equilibrium at Equi_Min = 0.6694888594967459 and Equi_Max = 0.706711874777146\n",
      "Game 60\n",
      "Not Reached Nash Equilibrium at Equi_Min = 0.6694888594967459 and Equi_Max = 0.706711874777146\n",
      "Game 61\n",
      "Not Reached Nash Equilibrium at Equi_Min = 0.6694888594967459 and Equi_Max = 0.706711874777146\n",
      "Game 62\n",
      "Not Reached Nash Equilibrium at Equi_Min = 0.6694888594967459 and Equi_Max = 0.706711874777146\n",
      "Game 63\n",
      "Not Reached Nash Equilibrium at Equi_Min = 0.6694888594967459 and Equi_Max = 0.706711874777146\n",
      "Game 64\n",
      "Not Reached Nash Equilibrium at Equi_Min = 0.6694888594967459 and Equi_Max = 0.706711874777146\n",
      "Game 65\n",
      "Not Reached Nash Equilibrium at Equi_Min = 0.6694888594967459 and Equi_Max = 0.706711874777146\n",
      "Game 66\n",
      "Not Reached Nash Equilibrium at Equi_Min = 0.6694888594967459 and Equi_Max = 0.706711874777146\n",
      "Game 67\n",
      "Not Reached Nash Equilibrium at Equi_Min = 0.6694888594967459 and Equi_Max = 0.706711874777146\n",
      "Game 68\n",
      "Not Reached Nash Equilibrium at Equi_Min = 0.6694888594967459 and Equi_Max = 0.706711874777146\n"
     ]
    },
    {
     "ename": "KeyboardInterrupt",
     "evalue": "",
     "output_type": "error",
     "traceback": [
      "\u001b[1;31m---------------------------------------------------------------------------\u001b[0m",
      "\u001b[1;31mKeyboardInterrupt\u001b[0m                         Traceback (most recent call last)",
      "\u001b[1;32m<ipython-input-87-f18730aade91>\u001b[0m in \u001b[0;36m<module>\u001b[1;34m\u001b[0m\n\u001b[0;32m     18\u001b[0m \u001b[1;33m\u001b[0m\u001b[0m\n\u001b[0;32m     19\u001b[0m \u001b[1;33m\u001b[0m\u001b[0m\n\u001b[1;32m---> 20\u001b[1;33m     \u001b[1;33m(\u001b[0m\u001b[0mmin_input\u001b[0m\u001b[1;33m,\u001b[0m \u001b[0mequi_min\u001b[0m\u001b[1;33m)\u001b[0m \u001b[1;33m=\u001b[0m \u001b[0mminimizer_play\u001b[0m\u001b[1;33m(\u001b[0m\u001b[0mmax_in\u001b[0m\u001b[1;33m,\u001b[0m \u001b[0mn1\u001b[0m\u001b[1;33m)\u001b[0m\u001b[1;33m\u001b[0m\u001b[1;33m\u001b[0m\u001b[0m\n\u001b[0m\u001b[0;32m     21\u001b[0m     \u001b[0mmin_in\u001b[0m \u001b[1;33m=\u001b[0m \u001b[0mmin_input\u001b[0m\u001b[1;33m\u001b[0m\u001b[1;33m\u001b[0m\u001b[0m\n\u001b[0;32m     22\u001b[0m \u001b[1;33m\u001b[0m\u001b[0m\n",
      "\u001b[1;32m<ipython-input-85-f64e3129dd82>\u001b[0m in \u001b[0;36mminimizer_play\u001b[1;34m(max_input, n1)\u001b[0m\n\u001b[0;32m      4\u001b[0m \u001b[1;31m#     print('1st round minimizer')\u001b[0m\u001b[1;33m\u001b[0m\u001b[1;33m\u001b[0m\u001b[1;33m\u001b[0m\u001b[0m\n\u001b[0;32m      5\u001b[0m     \u001b[1;31m# pass the maxmixer's equilibirum opinion to minimizer\u001b[0m\u001b[1;33m\u001b[0m\u001b[1;33m\u001b[0m\u001b[1;33m\u001b[0m\u001b[0m\n\u001b[1;32m----> 6\u001b[1;33m     \u001b[0mmin_champion\u001b[0m \u001b[1;33m=\u001b[0m  \u001b[0mchoose_min_vertex\u001b[0m\u001b[1;33m(\u001b[0m\u001b[0mmax_input\u001b[0m\u001b[1;33m,\u001b[0m \u001b[0mn1\u001b[0m\u001b[1;33m)\u001b[0m\u001b[1;33m\u001b[0m\u001b[1;33m\u001b[0m\u001b[0m\n\u001b[0m\u001b[0;32m      7\u001b[0m     \u001b[1;33m(\u001b[0m\u001b[0mv\u001b[0m\u001b[1;33m,\u001b[0m \u001b[0mchanged_opinion\u001b[0m\u001b[1;33m,\u001b[0m \u001b[0minnate_obj\u001b[0m\u001b[1;33m,\u001b[0m \u001b[0mobj\u001b[0m\u001b[1;33m)\u001b[0m \u001b[1;33m=\u001b[0m \u001b[0mmin_champion\u001b[0m\u001b[1;33m\u001b[0m\u001b[1;33m\u001b[0m\u001b[0m\n\u001b[0;32m      8\u001b[0m \u001b[1;31m#     print('v', 'changed_opinion', 'innate_obj', 'min_pol')\u001b[0m\u001b[1;33m\u001b[0m\u001b[1;33m\u001b[0m\u001b[1;33m\u001b[0m\u001b[0m\n",
      "\u001b[1;32m<ipython-input-75-0d7d628794d0>\u001b[0m in \u001b[0;36mchoose_min_vertex\u001b[1;34m(op, n1)\u001b[0m\n\u001b[0;32m      9\u001b[0m \u001b[1;33m\u001b[0m\u001b[0m\n\u001b[0;32m     10\u001b[0m     \u001b[1;32mfor\u001b[0m \u001b[0mv\u001b[0m \u001b[1;32min\u001b[0m \u001b[0mvertices\u001b[0m\u001b[1;33m[\u001b[0m\u001b[1;36m0\u001b[0m\u001b[1;33m]\u001b[0m\u001b[1;33m:\u001b[0m\u001b[1;33m\u001b[0m\u001b[1;33m\u001b[0m\u001b[0m\n\u001b[1;32m---> 11\u001b[1;33m         \u001b[1;33m(\u001b[0m\u001b[0mminimize_op\u001b[0m\u001b[1;33m,\u001b[0m \u001b[0minnate_obj\u001b[0m\u001b[1;33m,\u001b[0m \u001b[0mobj\u001b[0m\u001b[1;33m)\u001b[0m \u001b[1;33m=\u001b[0m \u001b[0mminimize_opinion\u001b[0m\u001b[1;33m(\u001b[0m\u001b[0mop\u001b[0m\u001b[1;33m,\u001b[0m \u001b[0ms2\u001b[0m\u001b[1;33m,\u001b[0m \u001b[0mn1\u001b[0m\u001b[1;33m,\u001b[0m \u001b[0mv\u001b[0m\u001b[1;33m)\u001b[0m\u001b[1;33m\u001b[0m\u001b[1;33m\u001b[0m\u001b[0m\n\u001b[0m\u001b[0;32m     12\u001b[0m \u001b[1;33m\u001b[0m\u001b[0m\n\u001b[0;32m     13\u001b[0m         \u001b[1;32mif\u001b[0m \u001b[0mobj\u001b[0m \u001b[1;33m<\u001b[0m \u001b[0mchampion\u001b[0m\u001b[1;33m[\u001b[0m\u001b[1;36m3\u001b[0m\u001b[1;33m]\u001b[0m\u001b[1;33m:\u001b[0m\u001b[1;33m\u001b[0m\u001b[1;33m\u001b[0m\u001b[0m\n",
      "\u001b[1;32m<ipython-input-72-d6496aa8427c>\u001b[0m in \u001b[0;36mminimize_opinion\u001b[1;34m(op, s2, n1, v)\u001b[0m\n\u001b[0;32m     12\u001b[0m     \u001b[1;32mfor\u001b[0m \u001b[0mnew_op\u001b[0m \u001b[1;32min\u001b[0m \u001b[0mmin_opi_option\u001b[0m\u001b[1;33m:\u001b[0m\u001b[1;33m\u001b[0m\u001b[1;33m\u001b[0m\u001b[0m\n\u001b[0;32m     13\u001b[0m         \u001b[0mop\u001b[0m\u001b[1;33m[\u001b[0m\u001b[0mv\u001b[0m\u001b[1;33m,\u001b[0m \u001b[1;36m0\u001b[0m\u001b[1;33m]\u001b[0m \u001b[1;33m=\u001b[0m \u001b[0mnew_op\u001b[0m\u001b[1;33m\u001b[0m\u001b[1;33m\u001b[0m\u001b[0m\n\u001b[1;32m---> 14\u001b[1;33m         \u001b[0mobj\u001b[0m\u001b[1;33m[\u001b[0m\u001b[0mi\u001b[0m\u001b[1;33m]\u001b[0m \u001b[1;33m=\u001b[0m \u001b[0mobj_polarization\u001b[0m\u001b[1;33m(\u001b[0m\u001b[0mG1\u001b[0m\u001b[1;33m,\u001b[0m \u001b[0mop\u001b[0m\u001b[1;33m,\u001b[0m \u001b[0ms2\u001b[0m\u001b[1;33m,\u001b[0m \u001b[0mn1\u001b[0m\u001b[1;33m)\u001b[0m\u001b[1;33m\u001b[0m\u001b[1;33m\u001b[0m\u001b[0m\n\u001b[0m\u001b[0;32m     15\u001b[0m \u001b[1;33m\u001b[0m\u001b[0m\n\u001b[0;32m     16\u001b[0m         \u001b[0mi\u001b[0m \u001b[1;33m=\u001b[0m \u001b[0mi\u001b[0m \u001b[1;33m+\u001b[0m \u001b[1;36m1\u001b[0m\u001b[1;33m\u001b[0m\u001b[1;33m\u001b[0m\u001b[0m\n",
      "\u001b[1;32m<ipython-input-46-426a30171e00>\u001b[0m in \u001b[0;36mobj_polarization\u001b[1;34m(G1, s1, s2, n1)\u001b[0m\n\u001b[0;32m      4\u001b[0m     \u001b[0mz1\u001b[0m \u001b[1;33m=\u001b[0m \u001b[0mequilibrium\u001b[0m\u001b[1;33m(\u001b[0m\u001b[0mn1\u001b[0m\u001b[1;33m,\u001b[0m\u001b[0ms1\u001b[0m\u001b[1;33m,\u001b[0m \u001b[0mg\u001b[0m\u001b[1;33m,\u001b[0m \u001b[0mh\u001b[0m\u001b[1;33m,\u001b[0m \u001b[0mG1\u001b[0m\u001b[1;33m,\u001b[0m \u001b[0mbeta\u001b[0m\u001b[1;33m,\u001b[0m\u001b[0mgamma\u001b[0m\u001b[1;33m)\u001b[0m\u001b[1;33m\u001b[0m\u001b[1;33m\u001b[0m\u001b[0m\n\u001b[0;32m      5\u001b[0m \u001b[1;31m#     z = np.concatenate((z1,s2))\u001b[0m\u001b[1;33m\u001b[0m\u001b[1;33m\u001b[0m\u001b[1;33m\u001b[0m\u001b[0m\n\u001b[1;32m----> 6\u001b[1;33m     \u001b[0mop_mean\u001b[0m \u001b[1;33m=\u001b[0m \u001b[0mmean_center\u001b[0m\u001b[1;33m(\u001b[0m\u001b[0mz1\u001b[0m\u001b[1;33m,\u001b[0m \u001b[0mn1\u001b[0m\u001b[1;33m)\u001b[0m\u001b[1;33m\u001b[0m\u001b[1;33m\u001b[0m\u001b[0m\n\u001b[0m\u001b[0;32m      7\u001b[0m     \u001b[1;32mreturn\u001b[0m \u001b[0mnp\u001b[0m\u001b[1;33m.\u001b[0m\u001b[0mdot\u001b[0m\u001b[1;33m(\u001b[0m\u001b[0mnp\u001b[0m\u001b[1;33m.\u001b[0m\u001b[0mtranspose\u001b[0m\u001b[1;33m(\u001b[0m\u001b[0mop_mean\u001b[0m\u001b[1;33m)\u001b[0m\u001b[1;33m,\u001b[0m \u001b[0mop_mean\u001b[0m\u001b[1;33m)\u001b[0m\u001b[1;33m[\u001b[0m\u001b[1;36m0\u001b[0m\u001b[1;33m,\u001b[0m\u001b[1;36m0\u001b[0m\u001b[1;33m]\u001b[0m\u001b[1;33m\u001b[0m\u001b[1;33m\u001b[0m\u001b[0m\n",
      "\u001b[1;32m<ipython-input-2-f3153df2f624>\u001b[0m in \u001b[0;36mmean_center\u001b[1;34m(op, n1)\u001b[0m\n\u001b[0;32m      2\u001b[0m \u001b[1;32mdef\u001b[0m \u001b[0mmean_center\u001b[0m\u001b[1;33m(\u001b[0m\u001b[0mop\u001b[0m\u001b[1;33m,\u001b[0m \u001b[0mn1\u001b[0m\u001b[1;33m)\u001b[0m\u001b[1;33m:\u001b[0m\u001b[1;33m\u001b[0m\u001b[1;33m\u001b[0m\u001b[0m\n\u001b[0;32m      3\u001b[0m     \u001b[0mones\u001b[0m \u001b[1;33m=\u001b[0m \u001b[0mnp\u001b[0m\u001b[1;33m.\u001b[0m\u001b[0mones\u001b[0m\u001b[1;33m(\u001b[0m\u001b[1;33m(\u001b[0m\u001b[0mn1\u001b[0m\u001b[1;33m,\u001b[0m \u001b[1;36m1\u001b[0m\u001b[1;33m)\u001b[0m\u001b[1;33m)\u001b[0m\u001b[1;33m\u001b[0m\u001b[1;33m\u001b[0m\u001b[0m\n\u001b[1;32m----> 4\u001b[1;33m     \u001b[0mx\u001b[0m \u001b[1;33m=\u001b[0m \u001b[0mop\u001b[0m \u001b[1;33m-\u001b[0m \u001b[1;33m(\u001b[0m\u001b[0mnp\u001b[0m\u001b[1;33m.\u001b[0m\u001b[0mdot\u001b[0m\u001b[1;33m(\u001b[0m\u001b[0mnp\u001b[0m\u001b[1;33m.\u001b[0m\u001b[0mtranspose\u001b[0m\u001b[1;33m(\u001b[0m\u001b[0mop\u001b[0m\u001b[1;33m)\u001b[0m\u001b[1;33m,\u001b[0m\u001b[0mones\u001b[0m\u001b[1;33m)\u001b[0m\u001b[1;33m/\u001b[0m\u001b[0mn1\u001b[0m\u001b[1;33m)\u001b[0m \u001b[1;33m*\u001b[0m \u001b[0mones\u001b[0m\u001b[1;33m\u001b[0m\u001b[1;33m\u001b[0m\u001b[0m\n\u001b[0m\u001b[0;32m      5\u001b[0m     \u001b[1;32mreturn\u001b[0m \u001b[0mx\u001b[0m\u001b[1;33m\u001b[0m\u001b[1;33m\u001b[0m\u001b[0m\n\u001b[0;32m      6\u001b[0m \u001b[1;33m\u001b[0m\u001b[0m\n",
      "\u001b[1;32m<__array_function__ internals>\u001b[0m in \u001b[0;36mdot\u001b[1;34m(*args, **kwargs)\u001b[0m\n",
      "\u001b[1;31mKeyboardInterrupt\u001b[0m: "
     ]
    }
   ],
   "source": [
    "Flag = 0\n",
    "equi_min = 1\n",
    "equi_max = 0\n",
    "max_in = 0\n",
    "(min_in, equi_opi_min) = minimizer_play(max_input, n1)\n",
    "count = 0\n",
    "\n",
    "while Flag == 0: \n",
    "    a = round(equi_min,4)\n",
    "    b = round(equi_max,4)\n",
    "    if a == b:\n",
    "        print(\"Reached Nash Equilibrium at game\"+ str(count+1) + \"and Equi_Por = \" + str(equi_min))\n",
    "        Flag = 1\n",
    "        break\n",
    "    \n",
    "    (max_input, equi_max)= maximizer_play(min_in,n1)\n",
    "    max_in = max_input\n",
    "    \n",
    "    \n",
    "    (min_input, equi_min) = minimizer_play(max_in, n1)\n",
    "    min_in = min_input\n",
    "    \n",
    "    count = count + 1\n",
    "    print(\"Game \" + str(count))\n",
    "    print(\"Not Reached Nash Equilibrium at Equi_Min = \" + str(equi_min) + \" and Equi_Max = \"+ str(equi_max)) \n",
    "    \n"
   ]
  },
  {
   "cell_type": "code",
   "execution_count": null,
   "metadata": {},
   "outputs": [],
   "source": []
  },
  {
   "cell_type": "code",
   "execution_count": null,
   "metadata": {},
   "outputs": [],
   "source": []
  },
  {
   "cell_type": "code",
   "execution_count": null,
   "metadata": {},
   "outputs": [],
   "source": []
  },
  {
   "cell_type": "code",
   "execution_count": null,
   "metadata": {},
   "outputs": [],
   "source": []
  }
 ],
 "metadata": {
  "kernelspec": {
   "display_name": "Python 3 (ipykernel)",
   "language": "python",
   "name": "python3"
  },
  "language_info": {
   "codemirror_mode": {
    "name": "ipython",
    "version": 3
   },
   "file_extension": ".py",
   "mimetype": "text/x-python",
   "name": "python",
   "nbconvert_exporter": "python",
   "pygments_lexer": "ipython3",
   "version": "3.11.5"
  }
 },
 "nbformat": 4,
 "nbformat_minor": 4
}
